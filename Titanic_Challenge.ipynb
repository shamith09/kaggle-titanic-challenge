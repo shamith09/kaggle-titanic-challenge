{
  "nbformat": 4,
  "nbformat_minor": 0,
  "metadata": {
    "colab": {
      "name": "Titanic Challenge.ipynb",
      "provenance": [],
      "collapsed_sections": [],
      "authorship_tag": "ABX9TyNGrU6uOeCJTXqdQosqmrDn",
      "include_colab_link": true
    },
    "kernelspec": {
      "name": "python3",
      "display_name": "Python 3"
    }
  },
  "cells": [
    {
      "cell_type": "markdown",
      "metadata": {
        "id": "view-in-github",
        "colab_type": "text"
      },
      "source": [
        "<a href=\"https://colab.research.google.com/github/shamith09/kaggle-titanic-challenge/blob/master/Titanic_Challenge.ipynb\" target=\"_parent\"><img src=\"https://colab.research.google.com/assets/colab-badge.svg\" alt=\"Open In Colab\"/></a>"
      ]
    },
    {
      "cell_type": "code",
      "metadata": {
        "id": "fEqjj0pRaBdJ",
        "colab_type": "code",
        "colab": {},
        "cellView": "form"
      },
      "source": [
        "#@title Run on TensorFlow 2.x\n",
        "%tensorflow_version 2.x"
      ],
      "execution_count": 0,
      "outputs": []
    },
    {
      "cell_type": "code",
      "metadata": {
        "id": "7Yly0WqiaCaT",
        "colab_type": "code",
        "outputId": "b51219b7-0bff-4ca6-991d-b870c26be760",
        "colab": {
          "base_uri": "https://localhost:8080/",
          "height": 34
        },
        "cellView": "form"
      },
      "source": [
        "#@title Load the imports\n",
        "\n",
        "# from __future__ import absolute_import, division, print_function, unicode_literals\n",
        "\n",
        "import numpy as np\n",
        "import pandas as pd\n",
        "import tensorflow as tf\n",
        "from tensorflow import feature_column\n",
        "from tensorflow.keras import layers\n",
        "from matplotlib import pyplot as plt\n",
        "\n",
        "# The following lines adjust the granularity of reporting.\n",
        "pd.options.display.max_rows = 10\n",
        "pd.options.display.float_format = \"{:.1f}\".format\n",
        "# tf.keras.backend.set_floatx('float32')\n",
        "\n",
        "print(\"Ran the import statements.\")"
      ],
      "execution_count": 9,
      "outputs": [
        {
          "output_type": "stream",
          "text": [
            "Ran the import statements.\n"
          ],
          "name": "stdout"
        }
      ]
    },
    {
      "cell_type": "code",
      "metadata": {
        "id": "_3cru8KUa1-S",
        "colab_type": "code",
        "outputId": "1adda2cf-2aed-4505-c8a7-bc4c39f730fb",
        "colab": {
          "resources": {
            "http://localhost:8080/nbextensions/google.colab/files.js": {
              "data": "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",
              "ok": true,
              "headers": [
                [
                  "content-type",
                  "application/javascript"
                ]
              ],
              "status": 200,
              "status_text": ""
            }
          },
          "base_uri": "https://localhost:8080/",
          "height": 74
        },
        "cellView": "form"
      },
      "source": [
        "#@title Upload train.csv\n",
        "from google.colab import files\n",
        "uploaded = files.upload() # train.csv"
      ],
      "execution_count": 10,
      "outputs": [
        {
          "output_type": "display_data",
          "data": {
            "text/html": [
              "\n",
              "     <input type=\"file\" id=\"files-528069a7-d894-452d-8409-0f2f5dadfd90\" name=\"files[]\" multiple disabled />\n",
              "     <output id=\"result-528069a7-d894-452d-8409-0f2f5dadfd90\">\n",
              "      Upload widget is only available when the cell has been executed in the\n",
              "      current browser session. Please rerun this cell to enable.\n",
              "      </output>\n",
              "      <script src=\"/nbextensions/google.colab/files.js\"></script> "
            ],
            "text/plain": [
              "<IPython.core.display.HTML object>"
            ]
          },
          "metadata": {
            "tags": []
          }
        },
        {
          "output_type": "stream",
          "text": [
            "Saving train.csv to train.csv\n"
          ],
          "name": "stdout"
        }
      ]
    },
    {
      "cell_type": "code",
      "metadata": {
        "id": "OcBQSZxpbsZL",
        "colab_type": "code",
        "colab": {
          "resources": {
            "http://localhost:8080/nbextensions/google.colab/files.js": {
              "data": "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",
              "ok": true,
              "headers": [
                [
                  "content-type",
                  "application/javascript"
                ]
              ],
              "status": 200,
              "status_text": ""
            }
          },
          "base_uri": "https://localhost:8080/",
          "height": 74
        },
        "cellView": "form",
        "outputId": "ab39bc78-3932-455b-ad6a-bee650ee013b"
      },
      "source": [
        "#@title Upload test.csv\n",
        "from google.colab import files\n",
        "uploaded2 = files.upload() # train.csv"
      ],
      "execution_count": 11,
      "outputs": [
        {
          "output_type": "display_data",
          "data": {
            "text/html": [
              "\n",
              "     <input type=\"file\" id=\"files-16a5dfd2-e7d4-4d7f-92ce-0d3684e1dd0e\" name=\"files[]\" multiple disabled />\n",
              "     <output id=\"result-16a5dfd2-e7d4-4d7f-92ce-0d3684e1dd0e\">\n",
              "      Upload widget is only available when the cell has been executed in the\n",
              "      current browser session. Please rerun this cell to enable.\n",
              "      </output>\n",
              "      <script src=\"/nbextensions/google.colab/files.js\"></script> "
            ],
            "text/plain": [
              "<IPython.core.display.HTML object>"
            ]
          },
          "metadata": {
            "tags": []
          }
        },
        {
          "output_type": "stream",
          "text": [
            "Saving test.csv to test.csv\n"
          ],
          "name": "stdout"
        }
      ]
    },
    {
      "cell_type": "code",
      "metadata": {
        "id": "UdJsRBsZaEp7",
        "colab_type": "code",
        "outputId": "9326ebba-b9ed-40b9-af12-d19f14edc016",
        "colab": {
          "base_uri": "https://localhost:8080/",
          "height": 255
        },
        "cellView": "form"
      },
      "source": [
        "#@title Read train.csv and test.csv into pandas DataFrames.\n",
        "import io\n",
        "train_df = pd.read_csv(io.BytesIO(uploaded['train.csv']))\n",
        "test_df = pd.read_csv(io.BytesIO(uploaded2['test.csv']))\n",
        "train_df = train_df.reindex(np.random.permutation(train_df.index)) # shuffle the training set\n",
        "\n",
        "print(train_df)"
      ],
      "execution_count": 12,
      "outputs": [
        {
          "output_type": "stream",
          "text": [
            "     PassengerId  Pclass     Sex  Age  SibSp  Parch  Fare Embarked  Survived\n",
            "206          207       3    male 32.0      1      0  15.8        S         0\n",
            "320          321       3    male 22.0      0      0   7.2        S         0\n",
            "235          236       3  female  nan      0      0   7.5        S         0\n",
            "282          283       3    male 16.0      0      0   9.5        S         0\n",
            "363          364       3    male 35.0      0      0   7.0        S         0\n",
            "..           ...     ...     ...  ...    ...    ...   ...      ...       ...\n",
            "294          295       3    male 24.0      0      0   7.9        S         0\n",
            "602          603       1    male  nan      0      0  42.4        S         0\n",
            "144          145       2    male 18.0      0      0  11.5        S         0\n",
            "605          606       3    male 36.0      1      0  15.6        S         0\n",
            "106          107       3  female 21.0      0      0   7.7        S         1\n",
            "\n",
            "[891 rows x 9 columns]\n"
          ],
          "name": "stdout"
        }
      ]
    },
    {
      "cell_type": "code",
      "metadata": {
        "id": "IS_WINNicSwr",
        "colab_type": "code",
        "colab": {},
        "cellView": "form"
      },
      "source": [
        "#@title Remove rows with any empty, null, or NaN values.\n",
        "train_df.replace('', np.nan, inplace=True)\n",
        "train_df.dropna(inplace=True)"
      ],
      "execution_count": 0,
      "outputs": []
    },
    {
      "cell_type": "code",
      "metadata": {
        "id": "atgDOu9hcU5k",
        "colab_type": "code",
        "colab": {},
        "cellView": "form"
      },
      "source": [
        "#@title Normalize the age and fare columns.\n",
        "for column in train_df:\n",
        "    if column == 'Age':\n",
        "        train_df[column] = train_df[column] / 80\n",
        "    elif column == 'Fare':\n",
        "        train_df[column] = train_df[column] / 512.3292"
      ],
      "execution_count": 0,
      "outputs": []
    },
    {
      "cell_type": "code",
      "metadata": {
        "id": "bfoxCMfJg8f_",
        "colab_type": "code",
        "colab": {},
        "cellView": "form"
      },
      "source": [
        "#@title Convert sex and embarked columns to numeric values.\n",
        "train_df['Sex'][train_df['Sex'] == 'male'] = 0\n",
        "train_df['Sex'][train_df['Sex'] == 'female'] = 1\n",
        "\n",
        "train_df['Embarked'][train_df['Embarked'] == 'S'] = -1\n",
        "train_df['Embarked'][train_df['Embarked'] == 'C'] = 0\n",
        "train_df['Embarked'][train_df['Embarked'] == 'Q'] = 1"
      ],
      "execution_count": 0,
      "outputs": []
    },
    {
      "cell_type": "code",
      "metadata": {
        "id": "vPcr-RSgcWiS",
        "colab_type": "code",
        "colab": {},
        "cellView": "both"
      },
      "source": [
        "#@title Define and add the features to a DenseFeatures layer.\n",
        "feature_columns = []\n",
        "feature_names = [\n",
        "      'Sex',\n",
        "      'Age',\n",
        "      'Parch',\n",
        "      'SibSp',\n",
        "      'Fare'\n",
        "]\n",
        "\n",
        "for name in feature_names:\n",
        "  fcolumn = tf.feature_column.numeric_column(name)\n",
        "  feature_columns.append(fcolumn)\n",
        "\n",
        "feature_layer = layers.DenseFeatures(feature_columns)"
      ],
      "execution_count": 0,
      "outputs": []
    },
    {
      "cell_type": "code",
      "metadata": {
        "id": "XVSPTbNUcYvq",
        "colab_type": "code",
        "outputId": "e29b09e5-223a-4467-f864-51fd574027c7",
        "colab": {
          "base_uri": "https://localhost:8080/",
          "height": 34
        },
        "cellView": "both"
      },
      "source": [
        "#@title Define the functions that create and train a model.\n",
        "def create_model(my_learning_rate, feature_layer, my_metrics, lmbda):\n",
        "  \"\"\"Create and compile a simple classification model.\"\"\"\n",
        "  # Most simple tf.keras models are sequential.\n",
        "  model = tf.keras.models.Sequential()\n",
        "\n",
        "  # Add the feature layer (the list of features and how they are represented)\n",
        "  # to the model.\n",
        "  model.add(feature_layer)\n",
        "\n",
        "  # Funnel the regression value through a sigmoid function.\n",
        "  model.add(layers.Dense(256, activation='relu', kernel_regularizer=tf.keras.regularizers.l2(lmbda)))\n",
        "  model.add(layers.Dense(128, activation='relu'))\n",
        "  model.add(layers.Dense(64, activation='relu'))\n",
        "  model.add(layers.Dense(32, activation='relu'))\n",
        "  model.add(layers.Dense(1, activation='sigmoid'))\n",
        "\n",
        "  # Call the compile method to construct the layers into a model that\n",
        "  # TensorFlow can execute.  Notice that we're using a different loss\n",
        "  # function for classification than for regression.    \n",
        "  model.compile(optimizer=tf.keras.optimizers.RMSprop(lr=my_learning_rate),                                                   \n",
        "                loss=tf.keras.losses.BinaryCrossentropy(),\n",
        "                metrics=my_metrics)\n",
        "\n",
        "  return model        \n",
        "\n",
        "\n",
        "def train_model(model, dataset, epochs, label_name,\n",
        "                batch_size=None, shuffle=True):\n",
        "  \"\"\"Feed a dataset into the model in order to train it.\"\"\"\n",
        "\n",
        "  # The x parameter of tf.keras.Model.fit can be a list of arrays, where\n",
        "  # each array contains the data for one feature.  Here, we're passing\n",
        "  # every column in the dataset. Note that the feature_layer will filter\n",
        "  # away most of those columns, leaving only the desired columns and their\n",
        "  # representations as features.\n",
        "  features = {name:np.array(value, np.float32) for name, value in dataset.items()}\n",
        "  label = np.array(features.pop(label_name)) \n",
        "  history = model.fit(x=features, y=label, batch_size=batch_size,\n",
        "                      epochs=epochs, shuffle=shuffle)\n",
        "  \n",
        "  # The list of epochs is stored separately from the rest of history.\n",
        "  epochs = history.epoch\n",
        "\n",
        "  # Isolate the classification metric for each epoch.\n",
        "  hist = pd.DataFrame(history.history)\n",
        "\n",
        "  return epochs, hist  \n",
        "\n",
        "print(\"Defined the create_model and train_model functions.\")   "
      ],
      "execution_count": 86,
      "outputs": [
        {
          "output_type": "stream",
          "text": [
            "Defined the create_model and train_model functions.\n"
          ],
          "name": "stdout"
        }
      ]
    },
    {
      "cell_type": "code",
      "metadata": {
        "id": "gPCrcNT0e_hD",
        "colab_type": "code",
        "outputId": "d7420e4c-6cad-410f-cdcc-1bc363984f78",
        "colab": {
          "base_uri": "https://localhost:8080/",
          "height": 1000
        },
        "cellView": "form"
      },
      "source": [
        "#@title Train the model and plot the loss and accuracy curves.\n",
        "# The following variables are the hyperparameters.\n",
        "learning_rate = 0.0001\n",
        "epochs = 150\n",
        "batch_size = 32\n",
        "lmbda = 0.01\n",
        "label_name = 'Survived'\n",
        "classification_threshold = 0.5\n",
        "\n",
        "# Establish the metrics the model will measure.\n",
        "METRICS = [\n",
        "           tf.keras.metrics.BinaryAccuracy(name='accuracy', \n",
        "                                           threshold=classification_threshold),\n",
        "          ]\n",
        "\n",
        "# Establish the model's topography.\n",
        "my_model = create_model(learning_rate, feature_layer, METRICS, lmbda)\n",
        "\n",
        "# Train the model on the training set.\n",
        "epochs, hist = train_model(my_model, train_df, epochs, \n",
        "                           label_name, batch_size)\n",
        "\n",
        "# Plot a graph of the metric(s) vs. epochs.\n",
        "list_of_metrics_to_plot = ['accuracy']\n",
        "\n",
        "# plot_curve(epochs, hist, list_of_metrics_to_plot)\n",
        "loss = hist['loss']\n",
        "acc = hist['accuracy']\n",
        "\n",
        "plt.plot(epochs, loss)\n",
        "plt.title('Loss vs. Epochs')\n",
        "plt.xlabel(\"Epoch\")\n",
        "plt.ylabel(\"Loss\")\n",
        "plt.show()\n",
        "\n",
        "plt.plot(epochs, acc)\n",
        "plt.title('Accuracy vs. Epochs')\n",
        "plt.xlabel(\"Epoch\")\n",
        "plt.ylabel(\"Accuracy\")\n",
        "plt.show()  "
      ],
      "execution_count": 88,
      "outputs": [
        {
          "output_type": "stream",
          "text": [
            "Epoch 1/150\n",
            "23/23 [==============================] - 0s 2ms/step - loss: 0.7823 - accuracy: 0.7121\n",
            "Epoch 2/150\n",
            "23/23 [==============================] - 0s 2ms/step - loss: 0.7673 - accuracy: 0.7753\n",
            "Epoch 3/150\n",
            "23/23 [==============================] - 0s 2ms/step - loss: 0.7536 - accuracy: 0.7879\n",
            "Epoch 4/150\n",
            "23/23 [==============================] - 0s 2ms/step - loss: 0.7399 - accuracy: 0.7935\n",
            "Epoch 5/150\n",
            "23/23 [==============================] - 0s 2ms/step - loss: 0.7265 - accuracy: 0.7865\n",
            "Epoch 6/150\n",
            "23/23 [==============================] - 0s 2ms/step - loss: 0.7123 - accuracy: 0.7921\n",
            "Epoch 7/150\n",
            "23/23 [==============================] - 0s 2ms/step - loss: 0.6987 - accuracy: 0.7949\n",
            "Epoch 8/150\n",
            "23/23 [==============================] - 0s 2ms/step - loss: 0.6849 - accuracy: 0.7865\n",
            "Epoch 9/150\n",
            "23/23 [==============================] - 0s 2ms/step - loss: 0.6711 - accuracy: 0.7921\n",
            "Epoch 10/150\n",
            "23/23 [==============================] - 0s 2ms/step - loss: 0.6572 - accuracy: 0.7865\n",
            "Epoch 11/150\n",
            "23/23 [==============================] - 0s 2ms/step - loss: 0.6437 - accuracy: 0.7823\n",
            "Epoch 12/150\n",
            "23/23 [==============================] - 0s 2ms/step - loss: 0.6321 - accuracy: 0.7837\n",
            "Epoch 13/150\n",
            "23/23 [==============================] - 0s 2ms/step - loss: 0.6198 - accuracy: 0.7851\n",
            "Epoch 14/150\n",
            "23/23 [==============================] - 0s 2ms/step - loss: 0.6097 - accuracy: 0.7809\n",
            "Epoch 15/150\n",
            "23/23 [==============================] - 0s 2ms/step - loss: 0.5991 - accuracy: 0.7823\n",
            "Epoch 16/150\n",
            "23/23 [==============================] - 0s 2ms/step - loss: 0.5903 - accuracy: 0.7837\n",
            "Epoch 17/150\n",
            "23/23 [==============================] - 0s 2ms/step - loss: 0.5831 - accuracy: 0.7851\n",
            "Epoch 18/150\n",
            "23/23 [==============================] - 0s 2ms/step - loss: 0.5785 - accuracy: 0.7823\n",
            "Epoch 19/150\n",
            "23/23 [==============================] - 0s 2ms/step - loss: 0.5732 - accuracy: 0.7865\n",
            "Epoch 20/150\n",
            "23/23 [==============================] - 0s 2ms/step - loss: 0.5680 - accuracy: 0.7879\n",
            "Epoch 21/150\n",
            "23/23 [==============================] - 0s 2ms/step - loss: 0.5635 - accuracy: 0.7865\n",
            "Epoch 22/150\n",
            "23/23 [==============================] - 0s 2ms/step - loss: 0.5598 - accuracy: 0.7851\n",
            "Epoch 23/150\n",
            "23/23 [==============================] - 0s 2ms/step - loss: 0.5576 - accuracy: 0.7809\n",
            "Epoch 24/150\n",
            "23/23 [==============================] - 0s 2ms/step - loss: 0.5546 - accuracy: 0.7851\n",
            "Epoch 25/150\n",
            "23/23 [==============================] - 0s 2ms/step - loss: 0.5530 - accuracy: 0.7837\n",
            "Epoch 26/150\n",
            "23/23 [==============================] - 0s 2ms/step - loss: 0.5503 - accuracy: 0.7851\n",
            "Epoch 27/150\n",
            "23/23 [==============================] - 0s 2ms/step - loss: 0.5483 - accuracy: 0.7837\n",
            "Epoch 28/150\n",
            "23/23 [==============================] - 0s 2ms/step - loss: 0.5463 - accuracy: 0.7879\n",
            "Epoch 29/150\n",
            "23/23 [==============================] - 0s 2ms/step - loss: 0.5448 - accuracy: 0.7837\n",
            "Epoch 30/150\n",
            "23/23 [==============================] - 0s 2ms/step - loss: 0.5436 - accuracy: 0.7851\n",
            "Epoch 31/150\n",
            "23/23 [==============================] - 0s 2ms/step - loss: 0.5420 - accuracy: 0.7879\n",
            "Epoch 32/150\n",
            "23/23 [==============================] - 0s 2ms/step - loss: 0.5405 - accuracy: 0.7879\n",
            "Epoch 33/150\n",
            "23/23 [==============================] - 0s 2ms/step - loss: 0.5398 - accuracy: 0.7865\n",
            "Epoch 34/150\n",
            "23/23 [==============================] - 0s 2ms/step - loss: 0.5376 - accuracy: 0.7851\n",
            "Epoch 35/150\n",
            "23/23 [==============================] - 0s 2ms/step - loss: 0.5371 - accuracy: 0.7879\n",
            "Epoch 36/150\n",
            "23/23 [==============================] - 0s 2ms/step - loss: 0.5360 - accuracy: 0.7921\n",
            "Epoch 37/150\n",
            "23/23 [==============================] - 0s 2ms/step - loss: 0.5341 - accuracy: 0.7935\n",
            "Epoch 38/150\n",
            "23/23 [==============================] - 0s 2ms/step - loss: 0.5314 - accuracy: 0.7907\n",
            "Epoch 39/150\n",
            "23/23 [==============================] - 0s 2ms/step - loss: 0.5318 - accuracy: 0.7921\n",
            "Epoch 40/150\n",
            "23/23 [==============================] - 0s 2ms/step - loss: 0.5321 - accuracy: 0.7879\n",
            "Epoch 41/150\n",
            "23/23 [==============================] - 0s 2ms/step - loss: 0.5305 - accuracy: 0.7865\n",
            "Epoch 42/150\n",
            "23/23 [==============================] - 0s 2ms/step - loss: 0.5299 - accuracy: 0.7935\n",
            "Epoch 43/150\n",
            "23/23 [==============================] - 0s 2ms/step - loss: 0.5278 - accuracy: 0.7907\n",
            "Epoch 44/150\n",
            "23/23 [==============================] - 0s 2ms/step - loss: 0.5273 - accuracy: 0.7879\n",
            "Epoch 45/150\n",
            "23/23 [==============================] - 0s 2ms/step - loss: 0.5267 - accuracy: 0.7949\n",
            "Epoch 46/150\n",
            "23/23 [==============================] - 0s 2ms/step - loss: 0.5258 - accuracy: 0.7963\n",
            "Epoch 47/150\n",
            "23/23 [==============================] - 0s 2ms/step - loss: 0.5246 - accuracy: 0.7963\n",
            "Epoch 48/150\n",
            "23/23 [==============================] - 0s 2ms/step - loss: 0.5243 - accuracy: 0.7935\n",
            "Epoch 49/150\n",
            "23/23 [==============================] - 0s 2ms/step - loss: 0.5232 - accuracy: 0.7907\n",
            "Epoch 50/150\n",
            "23/23 [==============================] - 0s 2ms/step - loss: 0.5221 - accuracy: 0.7935\n",
            "Epoch 51/150\n",
            "23/23 [==============================] - 0s 2ms/step - loss: 0.5212 - accuracy: 0.7935\n",
            "Epoch 52/150\n",
            "23/23 [==============================] - 0s 2ms/step - loss: 0.5204 - accuracy: 0.7935\n",
            "Epoch 53/150\n",
            "23/23 [==============================] - 0s 2ms/step - loss: 0.5197 - accuracy: 0.7949\n",
            "Epoch 54/150\n",
            "23/23 [==============================] - 0s 2ms/step - loss: 0.5189 - accuracy: 0.7949\n",
            "Epoch 55/150\n",
            "23/23 [==============================] - 0s 2ms/step - loss: 0.5185 - accuracy: 0.7949\n",
            "Epoch 56/150\n",
            "23/23 [==============================] - 0s 2ms/step - loss: 0.5174 - accuracy: 0.7921\n",
            "Epoch 57/150\n",
            "23/23 [==============================] - 0s 2ms/step - loss: 0.5164 - accuracy: 0.7949\n",
            "Epoch 58/150\n",
            "23/23 [==============================] - 0s 2ms/step - loss: 0.5159 - accuracy: 0.7963\n",
            "Epoch 59/150\n",
            "23/23 [==============================] - 0s 2ms/step - loss: 0.5154 - accuracy: 0.7935\n",
            "Epoch 60/150\n",
            "23/23 [==============================] - 0s 2ms/step - loss: 0.5144 - accuracy: 0.7935\n",
            "Epoch 61/150\n",
            "23/23 [==============================] - 0s 2ms/step - loss: 0.5131 - accuracy: 0.7963\n",
            "Epoch 62/150\n",
            "23/23 [==============================] - 0s 2ms/step - loss: 0.5136 - accuracy: 0.7935\n",
            "Epoch 63/150\n",
            "23/23 [==============================] - 0s 2ms/step - loss: 0.5126 - accuracy: 0.7949\n",
            "Epoch 64/150\n",
            "23/23 [==============================] - 0s 2ms/step - loss: 0.5121 - accuracy: 0.7978\n",
            "Epoch 65/150\n",
            "23/23 [==============================] - 0s 2ms/step - loss: 0.5106 - accuracy: 0.7949\n",
            "Epoch 66/150\n",
            "23/23 [==============================] - 0s 2ms/step - loss: 0.5118 - accuracy: 0.7963\n",
            "Epoch 67/150\n",
            "23/23 [==============================] - 0s 2ms/step - loss: 0.5095 - accuracy: 0.7963\n",
            "Epoch 68/150\n",
            "23/23 [==============================] - 0s 2ms/step - loss: 0.5092 - accuracy: 0.8020\n",
            "Epoch 69/150\n",
            "23/23 [==============================] - 0s 2ms/step - loss: 0.5092 - accuracy: 0.7963\n",
            "Epoch 70/150\n",
            "23/23 [==============================] - 0s 2ms/step - loss: 0.5083 - accuracy: 0.8062\n",
            "Epoch 71/150\n",
            "23/23 [==============================] - 0s 2ms/step - loss: 0.5079 - accuracy: 0.7978\n",
            "Epoch 72/150\n",
            "23/23 [==============================] - 0s 2ms/step - loss: 0.5080 - accuracy: 0.8034\n",
            "Epoch 73/150\n",
            "23/23 [==============================] - 0s 2ms/step - loss: 0.5069 - accuracy: 0.8062\n",
            "Epoch 74/150\n",
            "23/23 [==============================] - 0s 2ms/step - loss: 0.5056 - accuracy: 0.8006\n",
            "Epoch 75/150\n",
            "23/23 [==============================] - 0s 2ms/step - loss: 0.5059 - accuracy: 0.8048\n",
            "Epoch 76/150\n",
            "23/23 [==============================] - 0s 2ms/step - loss: 0.5047 - accuracy: 0.8090\n",
            "Epoch 77/150\n",
            "23/23 [==============================] - 0s 2ms/step - loss: 0.5045 - accuracy: 0.8048\n",
            "Epoch 78/150\n",
            "23/23 [==============================] - 0s 2ms/step - loss: 0.5041 - accuracy: 0.8062\n",
            "Epoch 79/150\n",
            "23/23 [==============================] - 0s 2ms/step - loss: 0.5033 - accuracy: 0.8090\n",
            "Epoch 80/150\n",
            "23/23 [==============================] - 0s 2ms/step - loss: 0.5026 - accuracy: 0.8062\n",
            "Epoch 81/150\n",
            "23/23 [==============================] - 0s 2ms/step - loss: 0.5025 - accuracy: 0.8048\n",
            "Epoch 82/150\n",
            "23/23 [==============================] - 0s 2ms/step - loss: 0.5006 - accuracy: 0.8090\n",
            "Epoch 83/150\n",
            "23/23 [==============================] - 0s 2ms/step - loss: 0.5009 - accuracy: 0.8104\n",
            "Epoch 84/150\n",
            "23/23 [==============================] - 0s 2ms/step - loss: 0.5009 - accuracy: 0.8118\n",
            "Epoch 85/150\n",
            "23/23 [==============================] - 0s 2ms/step - loss: 0.5002 - accuracy: 0.8062\n",
            "Epoch 86/150\n",
            "23/23 [==============================] - 0s 2ms/step - loss: 0.4974 - accuracy: 0.8076\n",
            "Epoch 87/150\n",
            "23/23 [==============================] - 0s 2ms/step - loss: 0.5007 - accuracy: 0.8146\n",
            "Epoch 88/150\n",
            "23/23 [==============================] - 0s 2ms/step - loss: 0.4978 - accuracy: 0.8090\n",
            "Epoch 89/150\n",
            "23/23 [==============================] - 0s 2ms/step - loss: 0.4979 - accuracy: 0.8076\n",
            "Epoch 90/150\n",
            "23/23 [==============================] - 0s 2ms/step - loss: 0.4969 - accuracy: 0.8104\n",
            "Epoch 91/150\n",
            "23/23 [==============================] - 0s 2ms/step - loss: 0.4965 - accuracy: 0.8146\n",
            "Epoch 92/150\n",
            "23/23 [==============================] - 0s 2ms/step - loss: 0.4962 - accuracy: 0.8132\n",
            "Epoch 93/150\n",
            "23/23 [==============================] - 0s 2ms/step - loss: 0.4957 - accuracy: 0.8146\n",
            "Epoch 94/150\n",
            "23/23 [==============================] - 0s 2ms/step - loss: 0.4945 - accuracy: 0.8174\n",
            "Epoch 95/150\n",
            "23/23 [==============================] - 0s 2ms/step - loss: 0.4947 - accuracy: 0.8146\n",
            "Epoch 96/150\n",
            "23/23 [==============================] - 0s 2ms/step - loss: 0.4945 - accuracy: 0.8146\n",
            "Epoch 97/150\n",
            "23/23 [==============================] - 0s 2ms/step - loss: 0.4935 - accuracy: 0.8132\n",
            "Epoch 98/150\n",
            "23/23 [==============================] - 0s 2ms/step - loss: 0.4922 - accuracy: 0.8146\n",
            "Epoch 99/150\n",
            "23/23 [==============================] - 0s 2ms/step - loss: 0.4927 - accuracy: 0.8146\n",
            "Epoch 100/150\n",
            "23/23 [==============================] - 0s 2ms/step - loss: 0.4917 - accuracy: 0.8132\n",
            "Epoch 101/150\n",
            "23/23 [==============================] - 0s 2ms/step - loss: 0.4922 - accuracy: 0.8146\n",
            "Epoch 102/150\n",
            "23/23 [==============================] - 0s 2ms/step - loss: 0.4910 - accuracy: 0.8174\n",
            "Epoch 103/150\n",
            "23/23 [==============================] - 0s 2ms/step - loss: 0.4904 - accuracy: 0.8146\n",
            "Epoch 104/150\n",
            "23/23 [==============================] - 0s 2ms/step - loss: 0.4907 - accuracy: 0.8160\n",
            "Epoch 105/150\n",
            "23/23 [==============================] - 0s 2ms/step - loss: 0.4892 - accuracy: 0.8174\n",
            "Epoch 106/150\n",
            "23/23 [==============================] - 0s 2ms/step - loss: 0.4892 - accuracy: 0.8202\n",
            "Epoch 107/150\n",
            "23/23 [==============================] - 0s 2ms/step - loss: 0.4885 - accuracy: 0.8174\n",
            "Epoch 108/150\n",
            "23/23 [==============================] - 0s 2ms/step - loss: 0.4884 - accuracy: 0.8202\n",
            "Epoch 109/150\n",
            "23/23 [==============================] - 0s 2ms/step - loss: 0.4871 - accuracy: 0.8188\n",
            "Epoch 110/150\n",
            "23/23 [==============================] - 0s 2ms/step - loss: 0.4873 - accuracy: 0.8160\n",
            "Epoch 111/150\n",
            "23/23 [==============================] - 0s 2ms/step - loss: 0.4865 - accuracy: 0.8202\n",
            "Epoch 112/150\n",
            "23/23 [==============================] - 0s 2ms/step - loss: 0.4853 - accuracy: 0.8174\n",
            "Epoch 113/150\n",
            "23/23 [==============================] - 0s 2ms/step - loss: 0.4849 - accuracy: 0.8188\n",
            "Epoch 114/150\n",
            "23/23 [==============================] - 0s 2ms/step - loss: 0.4851 - accuracy: 0.8160\n",
            "Epoch 115/150\n",
            "23/23 [==============================] - 0s 2ms/step - loss: 0.4844 - accuracy: 0.8188\n",
            "Epoch 116/150\n",
            "23/23 [==============================] - 0s 2ms/step - loss: 0.4840 - accuracy: 0.8188\n",
            "Epoch 117/150\n",
            "23/23 [==============================] - 0s 2ms/step - loss: 0.4832 - accuracy: 0.8188\n",
            "Epoch 118/150\n",
            "23/23 [==============================] - 0s 2ms/step - loss: 0.4827 - accuracy: 0.8188\n",
            "Epoch 119/150\n",
            "23/23 [==============================] - 0s 2ms/step - loss: 0.4821 - accuracy: 0.8216\n",
            "Epoch 120/150\n",
            "23/23 [==============================] - 0s 2ms/step - loss: 0.4815 - accuracy: 0.8216\n",
            "Epoch 121/150\n",
            "23/23 [==============================] - 0s 2ms/step - loss: 0.4816 - accuracy: 0.8216\n",
            "Epoch 122/150\n",
            "23/23 [==============================] - 0s 2ms/step - loss: 0.4811 - accuracy: 0.8188\n",
            "Epoch 123/150\n",
            "23/23 [==============================] - 0s 2ms/step - loss: 0.4808 - accuracy: 0.8188\n",
            "Epoch 124/150\n",
            "23/23 [==============================] - 0s 2ms/step - loss: 0.4796 - accuracy: 0.8216\n",
            "Epoch 125/150\n",
            "23/23 [==============================] - 0s 2ms/step - loss: 0.4796 - accuracy: 0.8202\n",
            "Epoch 126/150\n",
            "23/23 [==============================] - 0s 2ms/step - loss: 0.4792 - accuracy: 0.8230\n",
            "Epoch 127/150\n",
            "23/23 [==============================] - 0s 2ms/step - loss: 0.4791 - accuracy: 0.8202\n",
            "Epoch 128/150\n",
            "23/23 [==============================] - 0s 2ms/step - loss: 0.4786 - accuracy: 0.8230\n",
            "Epoch 129/150\n",
            "23/23 [==============================] - 0s 2ms/step - loss: 0.4769 - accuracy: 0.8202\n",
            "Epoch 130/150\n",
            "23/23 [==============================] - 0s 2ms/step - loss: 0.4773 - accuracy: 0.8174\n",
            "Epoch 131/150\n",
            "23/23 [==============================] - 0s 2ms/step - loss: 0.4767 - accuracy: 0.8216\n",
            "Epoch 132/150\n",
            "23/23 [==============================] - 0s 2ms/step - loss: 0.4764 - accuracy: 0.8202\n",
            "Epoch 133/150\n",
            "23/23 [==============================] - 0s 2ms/step - loss: 0.4758 - accuracy: 0.8216\n",
            "Epoch 134/150\n",
            "23/23 [==============================] - 0s 2ms/step - loss: 0.4744 - accuracy: 0.8244\n",
            "Epoch 135/150\n",
            "23/23 [==============================] - 0s 2ms/step - loss: 0.4766 - accuracy: 0.8188\n",
            "Epoch 136/150\n",
            "23/23 [==============================] - 0s 2ms/step - loss: 0.4731 - accuracy: 0.8202\n",
            "Epoch 137/150\n",
            "23/23 [==============================] - 0s 2ms/step - loss: 0.4734 - accuracy: 0.8188\n",
            "Epoch 138/150\n",
            "23/23 [==============================] - 0s 2ms/step - loss: 0.4736 - accuracy: 0.8216\n",
            "Epoch 139/150\n",
            "23/23 [==============================] - 0s 2ms/step - loss: 0.4734 - accuracy: 0.8230\n",
            "Epoch 140/150\n",
            "23/23 [==============================] - 0s 2ms/step - loss: 0.4736 - accuracy: 0.8202\n",
            "Epoch 141/150\n",
            "23/23 [==============================] - 0s 2ms/step - loss: 0.4711 - accuracy: 0.8216\n",
            "Epoch 142/150\n",
            "23/23 [==============================] - 0s 2ms/step - loss: 0.4723 - accuracy: 0.8216\n",
            "Epoch 143/150\n",
            "23/23 [==============================] - 0s 2ms/step - loss: 0.4706 - accuracy: 0.8202\n",
            "Epoch 144/150\n",
            "23/23 [==============================] - 0s 2ms/step - loss: 0.4706 - accuracy: 0.8202\n",
            "Epoch 145/150\n",
            "23/23 [==============================] - 0s 2ms/step - loss: 0.4707 - accuracy: 0.8202\n",
            "Epoch 146/150\n",
            "23/23 [==============================] - 0s 2ms/step - loss: 0.4709 - accuracy: 0.8230\n",
            "Epoch 147/150\n",
            "23/23 [==============================] - 0s 2ms/step - loss: 0.4699 - accuracy: 0.8230\n",
            "Epoch 148/150\n",
            "23/23 [==============================] - 0s 2ms/step - loss: 0.4691 - accuracy: 0.8216\n",
            "Epoch 149/150\n",
            "23/23 [==============================] - 0s 2ms/step - loss: 0.4692 - accuracy: 0.8230\n",
            "Epoch 150/150\n",
            "23/23 [==============================] - 0s 2ms/step - loss: 0.4695 - accuracy: 0.8216\n"
          ],
          "name": "stdout"
        },
        {
          "output_type": "display_data",
          "data": {
            "image/png": "[encoded data removed]",
            "text/plain": [
              "<Figure size 432x288 with 1 Axes>"
            ]
          },
          "metadata": {
            "tags": [],
            "needs_background": "light"
          }
        },
        {
          "output_type": "display_data",
          "data": {
            "image/png": "[encoded data removed]",
            "text/plain": [
              "<Figure size 432x288 with 1 Axes>"
            ]
          },
          "metadata": {
            "tags": [],
            "needs_background": "light"
          }
        }
      ]
    },
    {
      "cell_type": "code",
      "metadata": {
        "id": "_j7vCO1lgYml",
        "colab_type": "code",
        "colab": {},
        "cellView": "form"
      },
      "source": [
        "#@title Delete the .csv files.\n",
        "!rm -rf train.csv\n",
        "!rm -rf test.csv"
      ],
      "execution_count": 0,
      "outputs": []
    }
  ]
}